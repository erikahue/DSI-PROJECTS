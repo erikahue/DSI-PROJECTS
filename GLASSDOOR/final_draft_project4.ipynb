{
 "cells": [
  {
   "cell_type": "markdown",
   "metadata": {},
   "source": [
    "Objective:<br><br>\n",
    "This analysis focuses on collecting data science job listings to understand what factors influence the salaries for data science career postings. The project assignment emphasized the limited amount of salary information within Indeed.com and as a result I took the initiative to collect my data from Glassdoor.com by web harvesting. A technique employed to extract large amounts of data from websites. In this instance, my request for the information was denied by Glassdoor.com using python Requests library, therefore I used Phantom JS- a headless browser to easily retrieve this information from. \n",
    "<br><br>\n",
    "The goal of this exercise was to build a binary classification predictor model to determine whether a job posting was high or low. It is required to have ~1000 postings for jobs. \n",
    "<br><br>\n",
    "\n",
    "\n",
    "\n",
    "\n",
    "Data Collection: <br><br>\n",
    "Glassdoor has a database of millions of company reviews, CEO approval ratings, salary reports, interview reviews, benefit reviews, office photos and more. \n",
    "<br>\n",
    "\n",
    "The data for this project was collected on April 25,2017. From reviewing the first 10 pages in Glassdoor for a variety of cities, I noticed that none of the postings were older than one month. \n",
    "<br>\n",
    "\n",
    "Using the median salary, rating, company name,job title, city, and  state for 15 cities in the U.S to explore what factors most directly impacts salary.\n"
   ]
  },
  {
   "cell_type": "code",
   "execution_count": 2,
   "metadata": {
    "scrolled": false
   },
   "outputs": [
    {
     "name": "stderr",
     "output_type": "stream",
     "text": [
      "/Users/erikahuerta/anaconda/lib/python2.7/site-packages/sklearn/cross_validation.py:44: DeprecationWarning: This module was deprecated in version 0.18 in favor of the model_selection module into which all the refactored classes and functions are moved. Also note that the interface of the new CV iterators are different from that of this module. This module will be removed in 0.20.\n",
      "  \"This module will be removed in 0.20.\", DeprecationWarning)\n",
      "/Users/erikahuerta/anaconda/lib/python2.7/site-packages/sklearn/grid_search.py:43: DeprecationWarning: This module was deprecated in version 0.18 in favor of the model_selection module into which all the refactored classes and functions are moved. This module will be removed in 0.20.\n",
      "  DeprecationWarning)\n"
     ]
    }
   ],
   "source": [
    "# preliminaries \n",
    "import pandas as pd \n",
    "import numpy as np \n",
    "\n",
    "\n",
    "# webscrape \n",
    "import string\n",
    "import requests\n",
    "from selenium import webdriver\n",
    "from bs4 import BeautifulSoup\n",
    "\n",
    "# visualization\n",
    "import matplotlib.pyplot as plt\n",
    "import seaborn as sns\n",
    "plt.style.use('seaborn-white')\n",
    "%matplotlib inline\n",
    "\n",
    "# stats \n",
    "from sklearn.metrics import classification_report, confusion_matrix, accuracy_score\n",
    "from sklearn.model_selection import train_test_split, cross_val_score\n",
    "from sklearn.linear_model import LogisticRegression, LogisticRegressionCV\n",
    "from sklearn.grid_search import GridSearchCV"
   ]
  },
  {
   "cell_type": "code",
   "execution_count": 2,
   "metadata": {
    "collapsed": true
   },
   "outputs": [],
   "source": [
    "# Because I am forbidden access to data in glassdoor, I will have to use a headless browswer\n",
    "\n",
    "# r = requests.get('https://www.glassdoor.com/Job/new-york-data-scientist-jobs-SRCH_IL.0,8_IC1132348_KO9,23.htm')\n",
    "# r"
   ]
  },
  {
   "cell_type": "markdown",
   "metadata": {},
   "source": [
    "<font face=\"Courier\">\n",
    "Cities : http://offers.indeed.com/rs/699-SXJ-715/images/Tech%20Salary%20Report%20eBook.pdf"
   ]
  },
  {
   "cell_type": "markdown",
   "metadata": {
    "collapsed": true
   },
   "source": [
    "<font face=\"Courier\">\n",
    "1. San Francisco\n",
    "2. San Jose\n",
    "3. New York\n",
    "4. Los Angeles\n",
    "5. Seattle\n",
    "6. Boston\n",
    "7. Arlington\n",
    "8. Chicago\n",
    "9. Washington\n",
    "10. Austin\n",
    "11. San Diego\n",
    "12. Dallas\n",
    "13. Denver\n",
    "14. Salt Lake City\n",
    "15. Minneapolis"
   ]
  },
  {
   "cell_type": "code",
   "execution_count": 3,
   "metadata": {
    "collapsed": true
   },
   "outputs": [],
   "source": [
    "cities = {\n",
    "    'sanfrancisco':'https://www.glassdoor.com/Job/san-francisco-data-scientist-jobs-SRCH_IL.0,13_IC1147401_KO14,28_IP{}.htm',\n",
    "    'sanjose': 'https://www.glassdoor.com/Job/san-jose-data-scientist-jobs-SRCH_IL.0,8_IC1147436_KO9,23_IP{}.htm',\n",
    "    'newyork': 'https://www.glassdoor.com/Job/new-york-data-scientist-jobs-SRCH_IL.0,8_IC1132348_KO9,23_IP{}.htm',\n",
    "    'losangeles': 'https://www.glassdoor.com/Job/los-angeles-data-scientist-jobs-SRCH_IL.0,11_IC1146821_KO12,26_IP{}.htm',\n",
    "    'seattle': 'https://www.glassdoor.com/Job/seattle-data-scientist-jobs-SRCH_IL.0,7_IC1150505_KO8,22_IP{}.htm',\n",
    "    'boston': 'https://www.glassdoor.com/Job/boston-data-scientist-jobs-SRCH_IL.0,6_IC1154532_KO7,21_IP{}.htm',\n",
    "    'arlington': 'https://www.glassdoor.com/Job/arlington-data-scientist-jobs-SRCH_IL.0,9_IC1130337_KO10,24_IP{}.htm',\n",
    "    'chicago': 'https://www.glassdoor.com/Job/chicago-data-scientist-jobs-SRCH_IL.0,7_IC1128808_KO8,22_IP{}.htm',\n",
    "    'washington': 'https://www.glassdoor.com/Job/washington-data-scientist-jobs-SRCH_IL.0,10_IC1138213_KO11,25_IP{}.htm',\n",
    "    'austin':'https://www.glassdoor.com/Job/austin-data-scientist-jobs-SRCH_IL.0,6_IC1139761_KO7,21_IP{}.htm',\n",
    "    'sandiego': 'https://www.glassdoor.com/Job/san-diego-data-scientist-jobs-SRCH_IL.0,9_IC1147311_KO10,24_IP{}.htm',\n",
    "    'dallas': 'https://www.glassdoor.com/Job/san-diego-data-scientist-jobs-SRCH_IL.0,9_IC1147311_KO10,24_IP{}.htm',\n",
    "    'denver': 'https://www.glassdoor.com/Job/denver-data-scientist-jobs-SRCH_IL.0,6_IC1148170_KO7,21_IP{}.htm',\n",
    "    'saltlakecity': 'https://www.glassdoor.com/Job/denver-data-scientist-jobs-SRCH_IL.0,6_IC1148170_KO7,21_IP{}.htm',\n",
    "    'minneapolis': 'https://www.glassdoor.com/Job/minneapolis-data-scientist-jobs-SRCH_IL.0,11_IC1142551_KO12,26_IP{}.htm'   \n",
    "}"
   ]
  },
  {
   "cell_type": "code",
   "execution_count": 4,
   "metadata": {
    "collapsed": true
   },
   "outputs": [],
   "source": [
    "def beautiful_soup(url):\n",
    "    driver = webdriver.PhantomJS(executable_path='/Users/erikahuerta/Downloads/phantomjs-2.1.1-macosx/bin/phantomjs')  \n",
    "    driver.get(url)\n",
    "    soup = BeautifulSoup(driver.page_source, 'lxml')    \n",
    "    \n",
    "    return soup"
   ]
  },
  {
   "cell_type": "markdown",
   "metadata": {},
   "source": [
    "<font face=\"Courier\">\n",
    "The job listings in glassdoor provide a range estimate job salary for each job listing. I am planning on using the median."
   ]
  },
  {
   "cell_type": "code",
   "execution_count": 5,
   "metadata": {
    "collapsed": true
   },
   "outputs": [],
   "source": [
    "glassdoor_ = []\n",
    "def glassdoor_scrape(cities):\n",
    "    for k,v in cities.iteritems():\n",
    "        for page in range(0,11):\n",
    "            url_template = v.format(page)\n",
    "            soup = beautiful_soup(url_template)\n",
    "            for i in soup.findAll('li',class_='jl'):\n",
    "                #  extracting range of estimated salary in thousands\n",
    "                #  from the range - I am calculating the median \n",
    "                try:\n",
    "                    text = i.find('span', class_='green small').text\n",
    "                    salary = text.replace('Est. Salary $','').replace('$','').\\\n",
    "                                replace('k','').replace('-', ' ').split()\n",
    "                    results = map(int,salary)\n",
    "                    salary_range = range(results[0], results[1])\n",
    "                    median_salary = np.median(salary_range)\n",
    "                except:\n",
    "                    text = None\n",
    "                try:\n",
    "                    # ratings\n",
    "                    rating = i.find('span',class_='compactStars')\n",
    "                except:\n",
    "                    rating = None\n",
    "                try:\n",
    "                    # company name and location \n",
    "                    s = i.find(class_='flexbox empLoc')\n",
    "                    s = s.text.split(u\"\\u2013\")\n",
    "                except:\n",
    "                    s = None\n",
    "                    \n",
    "                try:\n",
    "                    # job title \n",
    "                    jobs = i.find('div', class_='flexbox')\n",
    "                    for job in jobs:\n",
    "                        try:\n",
    "                            title = job.find('a').text\n",
    "                        except:\n",
    "                            pass\n",
    "                except:\n",
    "                    jobs = None\n",
    "                information = [median_salary,rating,s[0],s[1],title]\n",
    "                glassdoor_.append(information)\n",
    "\n",
    "                '''   for the future -              \n",
    "                # extracting job profile urls \n",
    "                **link = i.find('a',class_='jobLink')['href']\n",
    "                **job_link = 'http://www.glassdoor.com'+ link'''\n",
    "\n",
    "    return glassdoor_"
   ]
  },
  {
   "cell_type": "code",
   "execution_count": 6,
   "metadata": {
    "collapsed": true
   },
   "outputs": [],
   "source": [
    "#results = glassdoor_scrape(cities)"
   ]
  },
  {
   "cell_type": "code",
   "execution_count": 7,
   "metadata": {
    "collapsed": true
   },
   "outputs": [],
   "source": [
    "# df = pd.DataFrame(results)"
   ]
  },
  {
   "cell_type": "code",
   "execution_count": 8,
   "metadata": {
    "collapsed": true
   },
   "outputs": [],
   "source": [
    "# df.rename(columns={0: 'median_salary', 1: 'rating',2:'company',3:'location',4:'job_title'}, inplace=True)"
   ]
  },
  {
   "cell_type": "code",
   "execution_count": 9,
   "metadata": {
    "collapsed": true,
    "scrolled": true
   },
   "outputs": [],
   "source": [
    "# df.to_csv('glassdoor_data.csv', sep='\\t', encoding='utf-8')"
   ]
  },
  {
   "cell_type": "markdown",
   "metadata": {},
   "source": [
    "#### Data Cleaning"
   ]
  },
  {
   "cell_type": "code",
   "execution_count": 3,
   "metadata": {
    "collapsed": true
   },
   "outputs": [],
   "source": [
    "df = pd.read_csv('./assets/glassdoor_data.csv', sep='\\t')"
   ]
  },
  {
   "cell_type": "code",
   "execution_count": 4,
   "metadata": {
    "scrolled": true
   },
   "outputs": [
    {
     "data": {
      "text/html": [
       "<div>\n",
       "<table border=\"1\" class=\"dataframe\">\n",
       "  <thead>\n",
       "    <tr style=\"text-align: right;\">\n",
       "      <th></th>\n",
       "      <th>Unnamed: 0</th>\n",
       "      <th>median_salary</th>\n",
       "      <th>rating</th>\n",
       "      <th>company</th>\n",
       "      <th>location</th>\n",
       "      <th>job_title</th>\n",
       "    </tr>\n",
       "  </thead>\n",
       "  <tbody>\n",
       "    <tr>\n",
       "      <th>0</th>\n",
       "      <td>0</td>\n",
       "      <td>150.5</td>\n",
       "      <td>&lt;span class=\"compactStars \"&gt; 4.2&lt;i class=\"star...</td>\n",
       "      <td>Factual</td>\n",
       "      <td>Los Angeles, CA</td>\n",
       "      <td>Data Scientist</td>\n",
       "    </tr>\n",
       "    <tr>\n",
       "      <th>1</th>\n",
       "      <td>1</td>\n",
       "      <td>109.0</td>\n",
       "      <td>&lt;span class=\"compactStars \"&gt; 3.7&lt;i class=\"star...</td>\n",
       "      <td>Spokeo</td>\n",
       "      <td>Pasadena, CA</td>\n",
       "      <td>Data Scientist</td>\n",
       "    </tr>\n",
       "    <tr>\n",
       "      <th>2</th>\n",
       "      <td>2</td>\n",
       "      <td>107.0</td>\n",
       "      <td>&lt;span class=\"compactStars \"&gt; 4.2&lt;i class=\"star...</td>\n",
       "      <td>Clutter</td>\n",
       "      <td>Los Angeles, CA</td>\n",
       "      <td>Data Scientist</td>\n",
       "    </tr>\n",
       "    <tr>\n",
       "      <th>3</th>\n",
       "      <td>3</td>\n",
       "      <td>122.0</td>\n",
       "      <td>&lt;span class=\"compactStars \"&gt; 4.4&lt;i class=\"star...</td>\n",
       "      <td>Snap Inc.</td>\n",
       "      <td>Los Angeles, CA</td>\n",
       "      <td>Data Scientist</td>\n",
       "    </tr>\n",
       "    <tr>\n",
       "      <th>4</th>\n",
       "      <td>4</td>\n",
       "      <td>122.0</td>\n",
       "      <td>&lt;span class=\"compactStars \"&gt; 3.4&lt;i class=\"star...</td>\n",
       "      <td>Huxley Associates</td>\n",
       "      <td>Los Angeles, CA    4 days ago    4d</td>\n",
       "      <td>Data Scientist</td>\n",
       "    </tr>\n",
       "  </tbody>\n",
       "</table>\n",
       "</div>"
      ],
      "text/plain": [
       "   Unnamed: 0  median_salary  \\\n",
       "0           0          150.5   \n",
       "1           1          109.0   \n",
       "2           2          107.0   \n",
       "3           3          122.0   \n",
       "4           4          122.0   \n",
       "\n",
       "                                              rating               company  \\\n",
       "0  <span class=\"compactStars \"> 4.2<i class=\"star...              Factual    \n",
       "1  <span class=\"compactStars \"> 3.7<i class=\"star...               Spokeo    \n",
       "2  <span class=\"compactStars \"> 4.2<i class=\"star...              Clutter    \n",
       "3  <span class=\"compactStars \"> 4.4<i class=\"star...            Snap Inc.    \n",
       "4  <span class=\"compactStars \"> 3.4<i class=\"star...    Huxley Associates    \n",
       "\n",
       "                                 location       job_title  \n",
       "0                       Los Angeles, CA    Data Scientist  \n",
       "1                          Pasadena, CA    Data Scientist  \n",
       "2                       Los Angeles, CA    Data Scientist  \n",
       "3                       Los Angeles, CA    Data Scientist  \n",
       "4   Los Angeles, CA    4 days ago    4d    Data Scientist  "
      ]
     },
     "execution_count": 4,
     "metadata": {},
     "output_type": "execute_result"
    }
   ],
   "source": [
    "df.head()"
   ]
  },
  {
   "cell_type": "code",
   "execution_count": 5,
   "metadata": {
    "collapsed": true
   },
   "outputs": [],
   "source": [
    "df.drop('Unnamed: 0', axis=1, inplace=True)"
   ]
  },
  {
   "cell_type": "code",
   "execution_count": 6,
   "metadata": {
    "scrolled": true
   },
   "outputs": [
    {
     "data": {
      "text/plain": [
       "median_salary      0\n",
       "rating           296\n",
       "company            0\n",
       "location           0\n",
       "job_title          0\n",
       "dtype: int64"
      ]
     },
     "execution_count": 6,
     "metadata": {},
     "output_type": "execute_result"
    }
   ],
   "source": [
    "df.isnull().sum()"
   ]
  },
  {
   "cell_type": "code",
   "execution_count": 7,
   "metadata": {
    "collapsed": true
   },
   "outputs": [],
   "source": [
    "# drop 296 null values \n",
    "df = df.dropna()"
   ]
  },
  {
   "cell_type": "code",
   "execution_count": 8,
   "metadata": {
    "collapsed": true
   },
   "outputs": [],
   "source": [
    "# remove html tag from rating \n",
    "df['rating'] = df['rating'].str.split().str[3]"
   ]
  },
  {
   "cell_type": "code",
   "execution_count": 9,
   "metadata": {
    "collapsed": true
   },
   "outputs": [],
   "source": [
    "df['rating'] = df['rating'].str.replace('<i','')"
   ]
  },
  {
   "cell_type": "code",
   "execution_count": 10,
   "metadata": {
    "collapsed": true
   },
   "outputs": [],
   "source": [
    "# convert rating str into float \n",
    "df['rating'] = df['rating'].astype(float)"
   ]
  },
  {
   "cell_type": "code",
   "execution_count": 11,
   "metadata": {
    "collapsed": true,
    "scrolled": false
   },
   "outputs": [],
   "source": [
    "# split location into city and state \n",
    "city_state = df['location'].apply(lambda x: pd.Series(str(x).split(',')))"
   ]
  },
  {
   "cell_type": "code",
   "execution_count": 12,
   "metadata": {
    "collapsed": true
   },
   "outputs": [],
   "source": [
    "city_state.rename(columns={0:'city',1:'state',2:'nothing'}, inplace=True)"
   ]
  },
  {
   "cell_type": "code",
   "execution_count": 13,
   "metadata": {
    "collapsed": true
   },
   "outputs": [],
   "source": [
    "city_state.drop('nothing',axis=1, inplace=True)"
   ]
  },
  {
   "cell_type": "code",
   "execution_count": 14,
   "metadata": {
    "collapsed": true
   },
   "outputs": [],
   "source": [
    "# concat city_state into original dataframe \n",
    "df = pd.concat([df,city_state], axis=1)"
   ]
  },
  {
   "cell_type": "code",
   "execution_count": 15,
   "metadata": {
    "collapsed": true
   },
   "outputs": [],
   "source": [
    "# drop original location \n",
    "df.drop('location',axis=1, inplace=True)"
   ]
  },
  {
   "cell_type": "code",
   "execution_count": 16,
   "metadata": {
    "collapsed": true
   },
   "outputs": [],
   "source": [
    "# clean city \n",
    "df['city'] = df['city'].str.strip()"
   ]
  },
  {
   "cell_type": "code",
   "execution_count": 17,
   "metadata": {
    "collapsed": true
   },
   "outputs": [],
   "source": [
    "# clean state \n",
    "df['state'] = df['state'].apply(lambda x: x.split()[0])"
   ]
  },
  {
   "cell_type": "code",
   "execution_count": 18,
   "metadata": {
    "collapsed": true
   },
   "outputs": [],
   "source": [
    "# company - remove punctuation\n",
    "df['company'] = df['company'].apply(lambda x:''.join([i for i in x if i not in string.punctuation]))"
   ]
  },
  {
   "cell_type": "code",
   "execution_count": 19,
   "metadata": {
    "collapsed": true
   },
   "outputs": [],
   "source": [
    "# company - remove empty space \n",
    "df['company'] = df['company'].str.strip().replace('  ','')"
   ]
  },
  {
   "cell_type": "code",
   "execution_count": 20,
   "metadata": {
    "collapsed": true
   },
   "outputs": [],
   "source": [
    "# job_title - remove punctuation \n",
    "df['job_title'] = df['job_title'].apply(lambda x:''.join([i for i in x if i not in string.punctuation]))"
   ]
  },
  {
   "cell_type": "code",
   "execution_count": 21,
   "metadata": {
    "collapsed": true
   },
   "outputs": [],
   "source": [
    "# job title - lowercase string\n",
    "df['job_title'] = df['job_title'].apply(lambda x: x.lower())"
   ]
  },
  {
   "cell_type": "code",
   "execution_count": 29,
   "metadata": {
    "collapsed": true,
    "scrolled": true
   },
   "outputs": [],
   "source": [
    "# df['job_title'].value_counts()"
   ]
  },
  {
   "cell_type": "code",
   "execution_count": 30,
   "metadata": {
    "collapsed": true
   },
   "outputs": [],
   "source": [
    "# dummify job titles \n",
    "def data_scientist(jobtitle):\n",
    "    if 'data scientist' in jobtitle:\n",
    "        return 1\n",
    "    else:\n",
    "        return 0 \n",
    "\n",
    "def senior(jobtitle):\n",
    "    if 'senior' in jobtitle or 'sr' in jobtitle:\n",
    "        return 1\n",
    "    else:\n",
    "        return 0\n",
    "    \n",
    "def junior(jobtitle):\n",
    "    if 'jr' in jobtitle or 'junior' in jobtitle:\n",
    "        return 1\n",
    "    else:\n",
    "        return 0\n",
    "\n",
    "def analyst(jobtitle):\n",
    "    if 'analyst' in jobtitle:\n",
    "        return 1\n",
    "    else:\n",
    "        return 0 "
   ]
  },
  {
   "cell_type": "code",
   "execution_count": 31,
   "metadata": {
    "collapsed": true
   },
   "outputs": [],
   "source": [
    "df['data_scientist'] = df['job_title'].map(data_scientist)\n",
    "df['senior'] = df['job_title'].map(senior)\n",
    "df['junior'] = df['job_title'].map(junior)\n",
    "df['analyst'] = df['job_title'].map(analyst)"
   ]
  },
  {
   "cell_type": "code",
   "execution_count": 32,
   "metadata": {},
   "outputs": [
    {
     "data": {
      "text/plain": [
       "(4736, 10)"
      ]
     },
     "execution_count": 32,
     "metadata": {},
     "output_type": "execute_result"
    }
   ],
   "source": [
    "df.shape"
   ]
  },
  {
   "cell_type": "code",
   "execution_count": 33,
   "metadata": {},
   "outputs": [
    {
     "data": {
      "text/plain": [
       "CA          1599\n",
       "CO           606\n",
       "WA           327\n",
       "TX           320\n",
       "VA           315\n",
       "IL           314\n",
       "MA           313\n",
       "MN           312\n",
       "NY           288\n",
       "DC           205\n",
       "MD            98\n",
       "Arapahoe      21\n",
       "NJ            12\n",
       "Fairfax        5\n",
       "Ramsey         1\n",
       "Name: state, dtype: int64"
      ]
     },
     "execution_count": 33,
     "metadata": {},
     "output_type": "execute_result"
    }
   ],
   "source": [
    "df['state'].value_counts()"
   ]
  },
  {
   "cell_type": "code",
   "execution_count": 34,
   "metadata": {
    "collapsed": true
   },
   "outputs": [],
   "source": [
    "# remove cities from state \n",
    "df = df[df.state != 'Arapahoe']\n",
    "df = df[df.state != 'Fairfax']\n",
    "df = df[df.state != 'Ramsey']"
   ]
  },
  {
   "cell_type": "code",
   "execution_count": 35,
   "metadata": {
    "collapsed": true
   },
   "outputs": [],
   "source": [
    "#df['state'].value_counts()"
   ]
  },
  {
   "cell_type": "code",
   "execution_count": 36,
   "metadata": {
    "collapsed": true
   },
   "outputs": [],
   "source": [
    "# reset index \n",
    "df.reset_index(drop=True,inplace=True)"
   ]
  },
  {
   "cell_type": "code",
   "execution_count": 37,
   "metadata": {
    "scrolled": true
   },
   "outputs": [
    {
     "data": {
      "text/html": [
       "<div>\n",
       "<table border=\"1\" class=\"dataframe\">\n",
       "  <thead>\n",
       "    <tr style=\"text-align: right;\">\n",
       "      <th></th>\n",
       "      <th>median_salary</th>\n",
       "      <th>rating</th>\n",
       "      <th>company</th>\n",
       "      <th>job_title</th>\n",
       "      <th>city</th>\n",
       "      <th>state</th>\n",
       "      <th>data_scientist</th>\n",
       "      <th>senior</th>\n",
       "      <th>junior</th>\n",
       "      <th>analyst</th>\n",
       "    </tr>\n",
       "  </thead>\n",
       "  <tbody>\n",
       "    <tr>\n",
       "      <th>0</th>\n",
       "      <td>150.5</td>\n",
       "      <td>4.2</td>\n",
       "      <td>Factual</td>\n",
       "      <td>data scientist</td>\n",
       "      <td>Los Angeles</td>\n",
       "      <td>CA</td>\n",
       "      <td>1</td>\n",
       "      <td>0</td>\n",
       "      <td>0</td>\n",
       "      <td>0</td>\n",
       "    </tr>\n",
       "    <tr>\n",
       "      <th>1</th>\n",
       "      <td>109.0</td>\n",
       "      <td>3.7</td>\n",
       "      <td>Spokeo</td>\n",
       "      <td>data scientist</td>\n",
       "      <td>Pasadena</td>\n",
       "      <td>CA</td>\n",
       "      <td>1</td>\n",
       "      <td>0</td>\n",
       "      <td>0</td>\n",
       "      <td>0</td>\n",
       "    </tr>\n",
       "    <tr>\n",
       "      <th>2</th>\n",
       "      <td>107.0</td>\n",
       "      <td>4.2</td>\n",
       "      <td>Clutter</td>\n",
       "      <td>data scientist</td>\n",
       "      <td>Los Angeles</td>\n",
       "      <td>CA</td>\n",
       "      <td>1</td>\n",
       "      <td>0</td>\n",
       "      <td>0</td>\n",
       "      <td>0</td>\n",
       "    </tr>\n",
       "    <tr>\n",
       "      <th>3</th>\n",
       "      <td>122.0</td>\n",
       "      <td>4.4</td>\n",
       "      <td>Snap Inc</td>\n",
       "      <td>data scientist</td>\n",
       "      <td>Los Angeles</td>\n",
       "      <td>CA</td>\n",
       "      <td>1</td>\n",
       "      <td>0</td>\n",
       "      <td>0</td>\n",
       "      <td>0</td>\n",
       "    </tr>\n",
       "    <tr>\n",
       "      <th>4</th>\n",
       "      <td>122.0</td>\n",
       "      <td>3.4</td>\n",
       "      <td>Huxley Associates</td>\n",
       "      <td>data scientist</td>\n",
       "      <td>Los Angeles</td>\n",
       "      <td>CA</td>\n",
       "      <td>1</td>\n",
       "      <td>0</td>\n",
       "      <td>0</td>\n",
       "      <td>0</td>\n",
       "    </tr>\n",
       "  </tbody>\n",
       "</table>\n",
       "</div>"
      ],
      "text/plain": [
       "   median_salary  rating            company       job_title         city  \\\n",
       "0          150.5     4.2            Factual  data scientist  Los Angeles   \n",
       "1          109.0     3.7             Spokeo  data scientist     Pasadena   \n",
       "2          107.0     4.2            Clutter  data scientist  Los Angeles   \n",
       "3          122.0     4.4           Snap Inc  data scientist  Los Angeles   \n",
       "4          122.0     3.4  Huxley Associates  data scientist  Los Angeles   \n",
       "\n",
       "  state  data_scientist  senior  junior  analyst  \n",
       "0    CA               1       0       0        0  \n",
       "1    CA               1       0       0        0  \n",
       "2    CA               1       0       0        0  \n",
       "3    CA               1       0       0        0  \n",
       "4    CA               1       0       0        0  "
      ]
     },
     "execution_count": 37,
     "metadata": {},
     "output_type": "execute_result"
    }
   ],
   "source": [
    "df.head()"
   ]
  },
  {
   "cell_type": "code",
   "execution_count": 38,
   "metadata": {
    "collapsed": true,
    "scrolled": true
   },
   "outputs": [],
   "source": [
    "# df.info()"
   ]
  },
  {
   "cell_type": "markdown",
   "metadata": {},
   "source": [
    "#### Dummify city and state "
   ]
  },
  {
   "cell_type": "code",
   "execution_count": 39,
   "metadata": {
    "collapsed": true
   },
   "outputs": [],
   "source": [
    "dummies = pd.get_dummies(df[['city','state']],drop_first=True)"
   ]
  },
  {
   "cell_type": "code",
   "execution_count": 40,
   "metadata": {
    "collapsed": true
   },
   "outputs": [],
   "source": [
    "df1 = pd.concat([df,dummies], axis=1)"
   ]
  },
  {
   "cell_type": "code",
   "execution_count": 41,
   "metadata": {
    "collapsed": true
   },
   "outputs": [],
   "source": [
    "df1.drop(df[['company','job_title','city','state']],axis=1, inplace=True)"
   ]
  },
  {
   "cell_type": "code",
   "execution_count": 42,
   "metadata": {},
   "outputs": [
    {
     "data": {
      "text/plain": [
       "(4709, 178)"
      ]
     },
     "execution_count": 42,
     "metadata": {},
     "output_type": "execute_result"
    }
   ],
   "source": [
    "df1.shape"
   ]
  },
  {
   "cell_type": "markdown",
   "metadata": {},
   "source": [
    "#### Exploratory Data Analysis"
   ]
  },
  {
   "cell_type": "code",
   "execution_count": 43,
   "metadata": {
    "scrolled": false
   },
   "outputs": [
    {
     "data": {
      "image/png": "[encoded data removed]",
      "text/plain": [
       "<matplotlib.figure.Figure at 0x113d27850>"
      ]
     },
     "metadata": {},
     "output_type": "display_data"
    }
   ],
   "source": [
    "plt.figure(figsize=(12,6))\n",
    "plt.scatter(df['rating'], df['median_salary'],alpha=0.5,color='darkolivegreen')\n",
    "plt.title('Data Science Median Salary vs. Company Rating (Glassdoor, 2017)', fontsize=14)\n",
    "plt.ylabel('Median Salary (Thousands)', fontsize=12)\n",
    "plt.xlabel('Company Rating', fontsize=12)\n",
    "plt.show()"
   ]
  },
  {
   "cell_type": "code",
   "execution_count": 44,
   "metadata": {
    "scrolled": false
   },
   "outputs": [
    {
     "data": {
      "image/png": "[encoded data removed]",
      "text/plain": [
       "<matplotlib.figure.Figure at 0x113d04510>"
      ]
     },
     "metadata": {},
     "output_type": "display_data"
    }
   ],
   "source": [
    "df['median_salary'].hist(bins=15,figsize=(12,6),alpha = 0.5, color = 'darkolivegreen')\n",
    "plt.xlabel('', fontsize = 12)\n",
    "plt.ylabel('Frequency', fontsize=12)\n",
    "plt.title('Data Science Median Salary From Glassdoor (2017)', fontsize=16);"
   ]
  },
  {
   "cell_type": "markdown",
   "metadata": {},
   "source": [
    "#### Modeling"
   ]
  },
  {
   "cell_type": "code",
   "execution_count": 45,
   "metadata": {
    "collapsed": true
   },
   "outputs": [],
   "source": [
    "# sns.heatmap(df1)"
   ]
  },
  {
   "cell_type": "markdown",
   "metadata": {
    "collapsed": true
   },
   "source": [
    "<font face=\"Courier\">\n",
    "<b> Grid Search Logistic Regression "
   ]
  },
  {
   "cell_type": "code",
   "execution_count": 46,
   "metadata": {
    "collapsed": true
   },
   "outputs": [],
   "source": [
    "# binary median salary for high or low results \n",
    "\n",
    "df1['binary_salary'] = pd.qcut(df['median_salary'],2,labels=[0,1],precision=0)"
   ]
  },
  {
   "cell_type": "code",
   "execution_count": 47,
   "metadata": {
    "collapsed": true
   },
   "outputs": [],
   "source": [
    "X_features = df1.ix[:,1:-1]\n",
    "y_target = df1['binary_salary']"
   ]
  },
  {
   "cell_type": "code",
   "execution_count": 48,
   "metadata": {},
   "outputs": [
    {
     "data": {
      "text/plain": [
       "GridSearchCV(cv=30, error_score='raise',\n",
       "       estimator=LogisticRegression(C=1.0, class_weight=None, dual=False, fit_intercept=True,\n",
       "          intercept_scaling=1, max_iter=100, multi_class='ovr', n_jobs=1,\n",
       "          penalty='l2', random_state=None, solver='liblinear', tol=0.0001,\n",
       "          verbose=0, warm_start=False),\n",
       "       fit_params={}, iid=True, n_jobs=1,\n",
       "       param_grid={'penalty': ['l1', 'l2'], 'C': [1e-06, 5e-06, 1e-05, 5e-05, 0.0001, 0.0005, 0.001, 0.005, 0.01, 0.05, 0.1, 0.15, 0.25, 0.275, 0.33, 0.5, 0.66, 0.75, 1.0, 10.0]},\n",
       "       pre_dispatch='2*n_jobs', refit=True, scoring=None, verbose=False)"
      ]
     },
     "execution_count": 48,
     "metadata": {},
     "output_type": "execute_result"
    }
   ],
   "source": [
    "logreg = LogisticRegression(solver='liblinear')\n",
    "C_vals = [0.000001, 0.000005, 0.00001, 0.00005, 0.0001, 0.0005, 0.001, 0.005, 0.01, 0.05, .1, .15, .25, .275, .33, 0.5, .66, 0.75, 1.0, 10.0]\n",
    "penalties = ['l1','l2']\n",
    "\n",
    "gs = GridSearchCV(logreg, {'penalty': penalties, 'C': C_vals},\\\n",
    "                  verbose=False, cv=30)\n",
    "gs.fit(X_features, y_target)"
   ]
  },
  {
   "cell_type": "code",
   "execution_count": 49,
   "metadata": {},
   "outputs": [
    {
     "data": {
      "text/plain": [
       "{'C': 0.005, 'penalty': 'l1'}"
      ]
     },
     "execution_count": 49,
     "metadata": {},
     "output_type": "execute_result"
    }
   ],
   "source": [
    "# best paremater \n",
    "gs.best_params_"
   ]
  },
  {
   "cell_type": "code",
   "execution_count": 50,
   "metadata": {
    "collapsed": true
   },
   "outputs": [],
   "source": [
    "logreg = LogisticRegression(C=gs.best_params_['C'],\\\n",
    "                            penalty=gs.best_params_['penalty'])\n"
   ]
  },
  {
   "cell_type": "code",
   "execution_count": 51,
   "metadata": {},
   "outputs": [
    {
     "data": {
      "text/plain": [
       "0.68879067374794212"
      ]
     },
     "execution_count": 51,
     "metadata": {},
     "output_type": "execute_result"
    }
   ],
   "source": [
    "cross_val_score(logreg, X_features, y_target, n_jobs=1, cv=30).mean()"
   ]
  },
  {
   "cell_type": "code",
   "execution_count": 52,
   "metadata": {
    "scrolled": true
   },
   "outputs": [
    {
     "name": "stderr",
     "output_type": "stream",
     "text": [
      "/Users/erikahuerta/anaconda/lib/python2.7/site-packages/ipykernel/__main__.py:4: FutureWarning: sort(columns=....) is deprecated, use sort_values(by=.....)\n"
     ]
    },
    {
     "data": {
      "text/html": [
       "<div>\n",
       "<table border=\"1\" class=\"dataframe\">\n",
       "  <thead>\n",
       "    <tr style=\"text-align: right;\">\n",
       "      <th></th>\n",
       "      <th>feature</th>\n",
       "      <th>coef</th>\n",
       "    </tr>\n",
       "  </thead>\n",
       "  <tbody>\n",
       "    <tr>\n",
       "      <th>1</th>\n",
       "      <td>data_scientist</td>\n",
       "      <td>0.675982</td>\n",
       "    </tr>\n",
       "    <tr>\n",
       "      <th>0</th>\n",
       "      <td>rating</td>\n",
       "      <td>0.0610955</td>\n",
       "    </tr>\n",
       "    <tr>\n",
       "      <th>175</th>\n",
       "      <td>state_VA</td>\n",
       "      <td>0</td>\n",
       "    </tr>\n",
       "    <tr>\n",
       "      <th>120</th>\n",
       "      <td>city_Redondo Beach</td>\n",
       "      <td>0</td>\n",
       "    </tr>\n",
       "    <tr>\n",
       "      <th>112</th>\n",
       "      <td>city_Oakland</td>\n",
       "      <td>0</td>\n",
       "    </tr>\n",
       "    <tr>\n",
       "      <th>113</th>\n",
       "      <td>city_Palo Alto</td>\n",
       "      <td>0</td>\n",
       "    </tr>\n",
       "    <tr>\n",
       "      <th>114</th>\n",
       "      <td>city_Pasadena</td>\n",
       "      <td>0</td>\n",
       "    </tr>\n",
       "    <tr>\n",
       "      <th>115</th>\n",
       "      <td>city_Playa Vista</td>\n",
       "      <td>0</td>\n",
       "    </tr>\n",
       "    <tr>\n",
       "      <th>116</th>\n",
       "      <td>city_Playa del Rey</td>\n",
       "      <td>0</td>\n",
       "    </tr>\n",
       "    <tr>\n",
       "      <th>117</th>\n",
       "      <td>city_Pleasanton</td>\n",
       "      <td>0</td>\n",
       "    </tr>\n",
       "    <tr>\n",
       "      <th>118</th>\n",
       "      <td>city_Plymouth</td>\n",
       "      <td>0</td>\n",
       "    </tr>\n",
       "    <tr>\n",
       "      <th>119</th>\n",
       "      <td>city_Redmond</td>\n",
       "      <td>0</td>\n",
       "    </tr>\n",
       "    <tr>\n",
       "      <th>121</th>\n",
       "      <td>city_Redwood City</td>\n",
       "      <td>0</td>\n",
       "    </tr>\n",
       "    <tr>\n",
       "      <th>110</th>\n",
       "      <td>city_North Reading</td>\n",
       "      <td>0</td>\n",
       "    </tr>\n",
       "    <tr>\n",
       "      <th>122</th>\n",
       "      <td>city_Reston</td>\n",
       "      <td>0</td>\n",
       "    </tr>\n",
       "    <tr>\n",
       "      <th>123</th>\n",
       "      <td>city_Richfield</td>\n",
       "      <td>0</td>\n",
       "    </tr>\n",
       "    <tr>\n",
       "      <th>124</th>\n",
       "      <td>city_Rockville</td>\n",
       "      <td>0</td>\n",
       "    </tr>\n",
       "    <tr>\n",
       "      <th>125</th>\n",
       "      <td>city_Rosslyn</td>\n",
       "      <td>0</td>\n",
       "    </tr>\n",
       "    <tr>\n",
       "      <th>126</th>\n",
       "      <td>city_Round Rock</td>\n",
       "      <td>0</td>\n",
       "    </tr>\n",
       "    <tr>\n",
       "      <th>127</th>\n",
       "      <td>city_Saint Paul</td>\n",
       "      <td>0</td>\n",
       "    </tr>\n",
       "    <tr>\n",
       "      <th>128</th>\n",
       "      <td>city_San Bruno</td>\n",
       "      <td>0</td>\n",
       "    </tr>\n",
       "    <tr>\n",
       "      <th>129</th>\n",
       "      <td>city_San Carlos</td>\n",
       "      <td>0</td>\n",
       "    </tr>\n",
       "    <tr>\n",
       "      <th>111</th>\n",
       "      <td>city_Northbrook</td>\n",
       "      <td>0</td>\n",
       "    </tr>\n",
       "    <tr>\n",
       "      <th>109</th>\n",
       "      <td>city_North Andover</td>\n",
       "      <td>0</td>\n",
       "    </tr>\n",
       "    <tr>\n",
       "      <th>131</th>\n",
       "      <td>city_San Francisco</td>\n",
       "      <td>0</td>\n",
       "    </tr>\n",
       "    <tr>\n",
       "      <th>98</th>\n",
       "      <td>city_Mill Valley</td>\n",
       "      <td>0</td>\n",
       "    </tr>\n",
       "    <tr>\n",
       "      <th>90</th>\n",
       "      <td>city_Louisville</td>\n",
       "      <td>0</td>\n",
       "    </tr>\n",
       "    <tr>\n",
       "      <th>91</th>\n",
       "      <td>city_Manhattan Beach</td>\n",
       "      <td>0</td>\n",
       "    </tr>\n",
       "    <tr>\n",
       "      <th>92</th>\n",
       "      <td>city_Maple Grove</td>\n",
       "      <td>0</td>\n",
       "    </tr>\n",
       "    <tr>\n",
       "      <th>93</th>\n",
       "      <td>city_Maplewood</td>\n",
       "      <td>0</td>\n",
       "    </tr>\n",
       "    <tr>\n",
       "      <th>...</th>\n",
       "      <td>...</td>\n",
       "      <td>...</td>\n",
       "    </tr>\n",
       "    <tr>\n",
       "      <th>79</th>\n",
       "      <td>city_Lakewood</td>\n",
       "      <td>0</td>\n",
       "    </tr>\n",
       "    <tr>\n",
       "      <th>80</th>\n",
       "      <td>city_Landfall</td>\n",
       "      <td>0</td>\n",
       "    </tr>\n",
       "    <tr>\n",
       "      <th>81</th>\n",
       "      <td>city_Lanham</td>\n",
       "      <td>0</td>\n",
       "    </tr>\n",
       "    <tr>\n",
       "      <th>82</th>\n",
       "      <td>city_Laurel</td>\n",
       "      <td>0</td>\n",
       "    </tr>\n",
       "    <tr>\n",
       "      <th>83</th>\n",
       "      <td>city_Lexington</td>\n",
       "      <td>0</td>\n",
       "    </tr>\n",
       "    <tr>\n",
       "      <th>84</th>\n",
       "      <td>city_Lisle</td>\n",
       "      <td>0</td>\n",
       "    </tr>\n",
       "    <tr>\n",
       "      <th>85</th>\n",
       "      <td>city_Littleton</td>\n",
       "      <td>0</td>\n",
       "    </tr>\n",
       "    <tr>\n",
       "      <th>67</th>\n",
       "      <td>city_Greenbelt</td>\n",
       "      <td>0</td>\n",
       "    </tr>\n",
       "    <tr>\n",
       "      <th>65</th>\n",
       "      <td>city_Golden</td>\n",
       "      <td>0</td>\n",
       "    </tr>\n",
       "    <tr>\n",
       "      <th>45</th>\n",
       "      <td>city_Dulles</td>\n",
       "      <td>0</td>\n",
       "    </tr>\n",
       "    <tr>\n",
       "      <th>54</th>\n",
       "      <td>city_Falls Church</td>\n",
       "      <td>0</td>\n",
       "    </tr>\n",
       "    <tr>\n",
       "      <th>46</th>\n",
       "      <td>city_Eagan</td>\n",
       "      <td>0</td>\n",
       "    </tr>\n",
       "    <tr>\n",
       "      <th>47</th>\n",
       "      <td>city_Eden Prairie</td>\n",
       "      <td>0</td>\n",
       "    </tr>\n",
       "    <tr>\n",
       "      <th>48</th>\n",
       "      <td>city_Edina</td>\n",
       "      <td>0</td>\n",
       "    </tr>\n",
       "    <tr>\n",
       "      <th>49</th>\n",
       "      <td>city_El Segundo</td>\n",
       "      <td>0</td>\n",
       "    </tr>\n",
       "    <tr>\n",
       "      <th>50</th>\n",
       "      <td>city_Emeryville</td>\n",
       "      <td>0</td>\n",
       "    </tr>\n",
       "    <tr>\n",
       "      <th>51</th>\n",
       "      <td>city_Encino</td>\n",
       "      <td>0</td>\n",
       "    </tr>\n",
       "    <tr>\n",
       "      <th>52</th>\n",
       "      <td>city_Englewood</td>\n",
       "      <td>0</td>\n",
       "    </tr>\n",
       "    <tr>\n",
       "      <th>53</th>\n",
       "      <td>city_Fairfax</td>\n",
       "      <td>0</td>\n",
       "    </tr>\n",
       "    <tr>\n",
       "      <th>55</th>\n",
       "      <td>city_Fort Meade</td>\n",
       "      <td>0</td>\n",
       "    </tr>\n",
       "    <tr>\n",
       "      <th>64</th>\n",
       "      <td>city_Glendale</td>\n",
       "      <td>0</td>\n",
       "    </tr>\n",
       "    <tr>\n",
       "      <th>56</th>\n",
       "      <td>city_Fort Washington</td>\n",
       "      <td>0</td>\n",
       "    </tr>\n",
       "    <tr>\n",
       "      <th>57</th>\n",
       "      <td>city_Foster City</td>\n",
       "      <td>0</td>\n",
       "    </tr>\n",
       "    <tr>\n",
       "      <th>58</th>\n",
       "      <td>city_Framingham</td>\n",
       "      <td>0</td>\n",
       "    </tr>\n",
       "    <tr>\n",
       "      <th>59</th>\n",
       "      <td>city_Fremont</td>\n",
       "      <td>0</td>\n",
       "    </tr>\n",
       "    <tr>\n",
       "      <th>60</th>\n",
       "      <td>city_Fridley</td>\n",
       "      <td>0</td>\n",
       "    </tr>\n",
       "    <tr>\n",
       "      <th>61</th>\n",
       "      <td>city_Fulton</td>\n",
       "      <td>0</td>\n",
       "    </tr>\n",
       "    <tr>\n",
       "      <th>62</th>\n",
       "      <td>city_Gaithersburg</td>\n",
       "      <td>0</td>\n",
       "    </tr>\n",
       "    <tr>\n",
       "      <th>63</th>\n",
       "      <td>city_Germantown</td>\n",
       "      <td>0</td>\n",
       "    </tr>\n",
       "    <tr>\n",
       "      <th>176</th>\n",
       "      <td>state_WA</td>\n",
       "      <td>0</td>\n",
       "    </tr>\n",
       "  </tbody>\n",
       "</table>\n",
       "<p>177 rows × 2 columns</p>\n",
       "</div>"
      ],
      "text/plain": [
       "                  feature       coef\n",
       "1          data_scientist   0.675982\n",
       "0                  rating  0.0610955\n",
       "175              state_VA          0\n",
       "120    city_Redondo Beach          0\n",
       "112          city_Oakland          0\n",
       "113        city_Palo Alto          0\n",
       "114         city_Pasadena          0\n",
       "115      city_Playa Vista          0\n",
       "116    city_Playa del Rey          0\n",
       "117       city_Pleasanton          0\n",
       "118         city_Plymouth          0\n",
       "119          city_Redmond          0\n",
       "121     city_Redwood City          0\n",
       "110    city_North Reading          0\n",
       "122           city_Reston          0\n",
       "123        city_Richfield          0\n",
       "124        city_Rockville          0\n",
       "125          city_Rosslyn          0\n",
       "126       city_Round Rock          0\n",
       "127       city_Saint Paul          0\n",
       "128        city_San Bruno          0\n",
       "129       city_San Carlos          0\n",
       "111       city_Northbrook          0\n",
       "109    city_North Andover          0\n",
       "131    city_San Francisco          0\n",
       "98       city_Mill Valley          0\n",
       "90        city_Louisville          0\n",
       "91   city_Manhattan Beach          0\n",
       "92       city_Maple Grove          0\n",
       "93         city_Maplewood          0\n",
       "..                    ...        ...\n",
       "79          city_Lakewood          0\n",
       "80          city_Landfall          0\n",
       "81            city_Lanham          0\n",
       "82            city_Laurel          0\n",
       "83         city_Lexington          0\n",
       "84             city_Lisle          0\n",
       "85         city_Littleton          0\n",
       "67         city_Greenbelt          0\n",
       "65            city_Golden          0\n",
       "45            city_Dulles          0\n",
       "54      city_Falls Church          0\n",
       "46             city_Eagan          0\n",
       "47      city_Eden Prairie          0\n",
       "48             city_Edina          0\n",
       "49        city_El Segundo          0\n",
       "50        city_Emeryville          0\n",
       "51            city_Encino          0\n",
       "52         city_Englewood          0\n",
       "53           city_Fairfax          0\n",
       "55        city_Fort Meade          0\n",
       "64          city_Glendale          0\n",
       "56   city_Fort Washington          0\n",
       "57       city_Foster City          0\n",
       "58        city_Framingham          0\n",
       "59           city_Fremont          0\n",
       "60           city_Fridley          0\n",
       "61            city_Fulton          0\n",
       "62      city_Gaithersburg          0\n",
       "63        city_Germantown          0\n",
       "176              state_WA          0\n",
       "\n",
       "[177 rows x 2 columns]"
      ]
     },
     "execution_count": 52,
     "metadata": {},
     "output_type": "execute_result"
    }
   ],
   "source": [
    "cv_model = logreg.fit(X_features, y_target)\n",
    "feature_rank = pd.concat([pd.DataFrame(X_features.columns).T,pd.DataFrame(abs(cv_model.coef_))], axis =0).T\n",
    "feature_rank.columns = ['feature','coef']\n",
    "feature_rank.sort('coef',ascending=False)"
   ]
  }
 ],
 "metadata": {
  "anaconda-cloud": {},
  "kernelspec": {
   "display_name": "Python [Root]",
   "language": "python",
   "name": "Python [Root]"
  },
  "language_info": {
   "codemirror_mode": {
    "name": "ipython",
    "version": 2
   },
   "file_extension": ".py",
   "mimetype": "text/x-python",
   "name": "python",
   "nbconvert_exporter": "python",
   "pygments_lexer": "ipython2",
   "version": "2.7.12"
  }
 },
 "nbformat": 4,
 "nbformat_minor": 1
}
