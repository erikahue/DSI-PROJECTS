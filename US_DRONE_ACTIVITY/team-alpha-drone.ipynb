{
 "cells": [
  {
   "cell_type": "markdown",
   "metadata": {},
   "source": [
    "# Team Alpha Drone\n",
    "\n",
    "---\n",
    "\n",
    "Since the API from `api.dronestre.am` provides data on drone strikes in near real time, this might be useful to hold the President accountable if he/she promises to reduce drone strikes. \n",
    "\n",
    "**Your mission:** \n",
    "- Explore the drone strike data and describe it\n",
    "- Do some accomanying research to augment your analysis\n",
    "- Report back any good summary statistics\n",
    "\n",
    "**Also, we would like to know:**\n",
    " - Is this a good source of data?\n",
    " - Why / why not?\n",
    "\n",
    "\n",
    "One of the needs for data science in organizations is to bring measure to vague problems. What can be measured in this dataset with certainty? Drive your presentation from what can be measured and reported. \n",
    "\n",
    "Also, if possible, suggest what can be done with this data in terms of actionable outcomes and to what extent.\n",
    "     \n",
    "*Keep politics out of the presentation and group work. Let's keep the work and discussion to the data: what is measurable and insights we can draw.  This data isn't meant to prove or disprove anything. It's intended to be an interesting dataset to look at, not a platform for political discourse.*"
   ]
  },
  {
   "cell_type": "code",
   "execution_count": 101,
   "metadata": {},
   "outputs": [
    {
     "data": {
      "text/html": [
       "<script>\n",
       "code_show=true; \n",
       "function code_toggle() {\n",
       " if (code_show){\n",
       " $('div.input').hide();\n",
       " } else {\n",
       " $('div.input').show();\n",
       " }\n",
       " code_show = !code_show\n",
       "} \n",
       "$( document ).ready(code_toggle);\n",
       "</script>\n",
       "<form action=\"javascript:code_toggle()\"><input type=\"submit\" value=\"Click here to toggle on/off the raw code.\"></form>"
      ],
      "text/plain": [
       "<IPython.core.display.HTML object>"
      ]
     },
     "execution_count": 101,
     "metadata": {},
     "output_type": "execute_result"
    }
   ],
   "source": [
    "from IPython.display import HTML\n",
    "\n",
    "HTML('''<script>\n",
    "code_show=true; \n",
    "function code_toggle() {\n",
    " if (code_show){\n",
    " $('div.input').hide();\n",
    " } else {\n",
    " $('div.input').show();\n",
    " }\n",
    " code_show = !code_show\n",
    "} \n",
    "$( document ).ready(code_toggle);\n",
    "</script>\n",
    "<form action=\"javascript:code_toggle()\"><input type=\"submit\" value=\"Click here to toggle on/off the raw code.\"></form>''')\n"
   ]
  },
  {
   "cell_type": "code",
   "execution_count": 1,
   "metadata": {},
   "outputs": [],
   "source": [
    "# First we need to fetch some data using Python requests from API\n",
    "# Read more about Python requests:\n",
    "# http://docs.python-requests.org/en/master/user/quickstart/\n",
    "\n",
    "import requests\n",
    "import pandas as pd\n",
    "import numpy as np\n",
    "\n",
    "\n",
    "import matplotlib.pyplot as plt\n",
    "import seaborn as sns\n",
    "% matplotlib inline\n",
    "\n",
    "response = requests.get(\"http://api.dronestre.am/data\")\n",
    "json_data = response.json()\n",
    "drone_df = pd.DataFrame(json_data['strike'])"
   ]
  },
  {
   "cell_type": "code",
   "execution_count": 2,
   "metadata": {},
   "outputs": [
    {
     "data": {
      "text/html": [
       "<div>\n",
       "<table border=\"1\" class=\"dataframe\">\n",
       "  <thead>\n",
       "    <tr style=\"text-align: right;\">\n",
       "      <th></th>\n",
       "      <th>0</th>\n",
       "      <th>1</th>\n",
       "      <th>2</th>\n",
       "    </tr>\n",
       "  </thead>\n",
       "  <tbody>\n",
       "    <tr>\n",
       "      <th>_id</th>\n",
       "      <td>55c79e711cbee48856a30886</td>\n",
       "      <td>55c79e711cbee48856a30887</td>\n",
       "      <td>55c79e711cbee48856a30888</td>\n",
       "    </tr>\n",
       "    <tr>\n",
       "      <th>articles</th>\n",
       "      <td>[]</td>\n",
       "      <td>[]</td>\n",
       "      <td>[]</td>\n",
       "    </tr>\n",
       "    <tr>\n",
       "      <th>bij_link</th>\n",
       "      <td>http://www.thebureauinvestigates.com/2012/03/2...</td>\n",
       "      <td>http://www.thebureauinvestigates.com/2011/08/1...</td>\n",
       "      <td>http://www.thebureauinvestigates.com/2011/08/1...</td>\n",
       "    </tr>\n",
       "    <tr>\n",
       "      <th>bij_summary_short</th>\n",
       "      <td>In the first known US targeted assassination u...</td>\n",
       "      <td>First known drone strike in Pakistan kills at ...</td>\n",
       "      <td>Two killed, including Haitham al-Yemeni an al ...</td>\n",
       "    </tr>\n",
       "    <tr>\n",
       "      <th>bureau_id</th>\n",
       "      <td>YEM001</td>\n",
       "      <td>B1</td>\n",
       "      <td>B2</td>\n",
       "    </tr>\n",
       "    <tr>\n",
       "      <th>children</th>\n",
       "      <td></td>\n",
       "      <td>2</td>\n",
       "      <td></td>\n",
       "    </tr>\n",
       "    <tr>\n",
       "      <th>civilians</th>\n",
       "      <td>0</td>\n",
       "      <td>2</td>\n",
       "      <td></td>\n",
       "    </tr>\n",
       "    <tr>\n",
       "      <th>country</th>\n",
       "      <td>Yemen</td>\n",
       "      <td>Pakistan</td>\n",
       "      <td>Pakistan</td>\n",
       "    </tr>\n",
       "    <tr>\n",
       "      <th>date</th>\n",
       "      <td>2002-11-03T00:00:00.000Z</td>\n",
       "      <td>2004-06-17T00:00:00.000Z</td>\n",
       "      <td>2005-05-08T00:00:00.000Z</td>\n",
       "    </tr>\n",
       "    <tr>\n",
       "      <th>deaths</th>\n",
       "      <td>6</td>\n",
       "      <td>6-8</td>\n",
       "      <td>2</td>\n",
       "    </tr>\n",
       "    <tr>\n",
       "      <th>deaths_max</th>\n",
       "      <td>6</td>\n",
       "      <td>8</td>\n",
       "      <td>2</td>\n",
       "    </tr>\n",
       "    <tr>\n",
       "      <th>deaths_min</th>\n",
       "      <td>6</td>\n",
       "      <td>6</td>\n",
       "      <td>2</td>\n",
       "    </tr>\n",
       "    <tr>\n",
       "      <th>injuries</th>\n",
       "      <td></td>\n",
       "      <td>1</td>\n",
       "      <td></td>\n",
       "    </tr>\n",
       "    <tr>\n",
       "      <th>lat</th>\n",
       "      <td>15.47467</td>\n",
       "      <td>32.30512565</td>\n",
       "      <td>32.98677989</td>\n",
       "    </tr>\n",
       "    <tr>\n",
       "      <th>location</th>\n",
       "      <td>Marib Province</td>\n",
       "      <td>South Waziristan</td>\n",
       "      <td>North Waziristan</td>\n",
       "    </tr>\n",
       "    <tr>\n",
       "      <th>lon</th>\n",
       "      <td>45.322755</td>\n",
       "      <td>69.57624435</td>\n",
       "      <td>70.26082993</td>\n",
       "    </tr>\n",
       "    <tr>\n",
       "      <th>names</th>\n",
       "      <td>[Qa'id Salim Sinan al-Harithi, Abu Ahmad al-Hi...</td>\n",
       "      <td>[Nek Mohammad, Fakhar Zaman, Azmat Khan, Marez...</td>\n",
       "      <td>[Haitham al-Yemeni, Samiullah Khan]</td>\n",
       "    </tr>\n",
       "    <tr>\n",
       "      <th>narrative</th>\n",
       "      <td>In the first known US targeted assassination u...</td>\n",
       "      <td>The first known fatal US drone strike inside P...</td>\n",
       "      <td>2 people killed in a Predator strike which rep...</td>\n",
       "    </tr>\n",
       "    <tr>\n",
       "      <th>number</th>\n",
       "      <td>1</td>\n",
       "      <td>2</td>\n",
       "      <td>3</td>\n",
       "    </tr>\n",
       "    <tr>\n",
       "      <th>target</th>\n",
       "      <td></td>\n",
       "      <td>Nek Mohammed</td>\n",
       "      <td>Haitham al-Yemeni</td>\n",
       "    </tr>\n",
       "    <tr>\n",
       "      <th>town</th>\n",
       "      <td></td>\n",
       "      <td>Wana</td>\n",
       "      <td>Toorikhel</td>\n",
       "    </tr>\n",
       "    <tr>\n",
       "      <th>tweet_id</th>\n",
       "      <td>278544689483890688</td>\n",
       "      <td>278544750867533824</td>\n",
       "      <td>278544812255367168</td>\n",
       "    </tr>\n",
       "  </tbody>\n",
       "</table>\n",
       "</div>"
      ],
      "text/plain": [
       "                                                                   0  \\\n",
       "_id                                         55c79e711cbee48856a30886   \n",
       "articles                                                          []   \n",
       "bij_link           http://www.thebureauinvestigates.com/2012/03/2...   \n",
       "bij_summary_short  In the first known US targeted assassination u...   \n",
       "bureau_id                                                     YEM001   \n",
       "children                                                               \n",
       "civilians                                                          0   \n",
       "country                                                        Yemen   \n",
       "date                                        2002-11-03T00:00:00.000Z   \n",
       "deaths                                                             6   \n",
       "deaths_max                                                         6   \n",
       "deaths_min                                                         6   \n",
       "injuries                                                               \n",
       "lat                                                         15.47467   \n",
       "location                                              Marib Province   \n",
       "lon                                                        45.322755   \n",
       "names              [Qa'id Salim Sinan al-Harithi, Abu Ahmad al-Hi...   \n",
       "narrative          In the first known US targeted assassination u...   \n",
       "number                                                             1   \n",
       "target                                                                 \n",
       "town                                                                   \n",
       "tweet_id                                          278544689483890688   \n",
       "\n",
       "                                                                   1  \\\n",
       "_id                                         55c79e711cbee48856a30887   \n",
       "articles                                                          []   \n",
       "bij_link           http://www.thebureauinvestigates.com/2011/08/1...   \n",
       "bij_summary_short  First known drone strike in Pakistan kills at ...   \n",
       "bureau_id                                                         B1   \n",
       "children                                                           2   \n",
       "civilians                                                          2   \n",
       "country                                                     Pakistan   \n",
       "date                                        2004-06-17T00:00:00.000Z   \n",
       "deaths                                                           6-8   \n",
       "deaths_max                                                         8   \n",
       "deaths_min                                                         6   \n",
       "injuries                                                           1   \n",
       "lat                                                      32.30512565   \n",
       "location                                            South Waziristan   \n",
       "lon                                                      69.57624435   \n",
       "names              [Nek Mohammad, Fakhar Zaman, Azmat Khan, Marez...   \n",
       "narrative          The first known fatal US drone strike inside P...   \n",
       "number                                                             2   \n",
       "target                                                  Nek Mohammed   \n",
       "town                                                            Wana   \n",
       "tweet_id                                          278544750867533824   \n",
       "\n",
       "                                                                   2  \n",
       "_id                                         55c79e711cbee48856a30888  \n",
       "articles                                                          []  \n",
       "bij_link           http://www.thebureauinvestigates.com/2011/08/1...  \n",
       "bij_summary_short  Two killed, including Haitham al-Yemeni an al ...  \n",
       "bureau_id                                                         B2  \n",
       "children                                                              \n",
       "civilians                                                             \n",
       "country                                                     Pakistan  \n",
       "date                                        2005-05-08T00:00:00.000Z  \n",
       "deaths                                                             2  \n",
       "deaths_max                                                         2  \n",
       "deaths_min                                                         2  \n",
       "injuries                                                              \n",
       "lat                                                      32.98677989  \n",
       "location                                            North Waziristan  \n",
       "lon                                                      70.26082993  \n",
       "names                            [Haitham al-Yemeni, Samiullah Khan]  \n",
       "narrative          2 people killed in a Predator strike which rep...  \n",
       "number                                                             3  \n",
       "target                                             Haitham al-Yemeni  \n",
       "town                                                       Toorikhel  \n",
       "tweet_id                                          278544812255367168  "
      ]
     },
     "execution_count": 2,
     "metadata": {},
     "output_type": "execute_result"
    }
   ],
   "source": [
    "drone_df.head(3).T"
   ]
  },
  {
   "cell_type": "code",
   "execution_count": 3,
   "metadata": {},
   "outputs": [
    {
     "name": "stdout",
     "output_type": "stream",
     "text": [
      "<class 'pandas.core.frame.DataFrame'>\n",
      "RangeIndex: 647 entries, 0 to 646\n",
      "Data columns (total 22 columns):\n",
      "_id                  647 non-null object\n",
      "articles             647 non-null object\n",
      "bij_link             647 non-null object\n",
      "bij_summary_short    647 non-null object\n",
      "bureau_id            647 non-null object\n",
      "children             647 non-null object\n",
      "civilians            647 non-null object\n",
      "country              647 non-null object\n",
      "date                 647 non-null object\n",
      "deaths               647 non-null object\n",
      "deaths_max           647 non-null object\n",
      "deaths_min           647 non-null object\n",
      "injuries             647 non-null object\n",
      "lat                  647 non-null object\n",
      "location             647 non-null object\n",
      "lon                  647 non-null object\n",
      "names                647 non-null object\n",
      "narrative            647 non-null object\n",
      "number               647 non-null int64\n",
      "target               647 non-null object\n",
      "town                 647 non-null object\n",
      "tweet_id             647 non-null object\n",
      "dtypes: int64(1), object(21)\n",
      "memory usage: 111.3+ KB\n"
     ]
    }
   ],
   "source": [
    "drone_df.info()"
   ]
  },
  {
   "cell_type": "code",
   "execution_count": 4,
   "metadata": {},
   "outputs": [
    {
     "data": {
      "text/plain": [
       "_id                  object\n",
       "articles             object\n",
       "bij_link             object\n",
       "bij_summary_short    object\n",
       "bureau_id            object\n",
       "children             object\n",
       "civilians            object\n",
       "country              object\n",
       "date                 object\n",
       "deaths               object\n",
       "deaths_max           object\n",
       "deaths_min           object\n",
       "injuries             object\n",
       "lat                  object\n",
       "location             object\n",
       "lon                  object\n",
       "names                object\n",
       "narrative            object\n",
       "number                int64\n",
       "target               object\n",
       "town                 object\n",
       "tweet_id             object\n",
       "dtype: object"
      ]
     },
     "execution_count": 4,
     "metadata": {},
     "output_type": "execute_result"
    }
   ],
   "source": [
    "drone_df.dtypes"
   ]
  },
  {
   "cell_type": "code",
   "execution_count": 5,
   "metadata": {},
   "outputs": [
    {
     "name": "stdout",
     "output_type": "stream",
     "text": [
      "Pakistan                       430\n",
      "Yemen                          195\n",
      "Somalia                         21\n",
      "Pakistan-Afghanistan Border      1\n",
      "Name: country, dtype: int64\n"
     ]
    }
   ],
   "source": [
    "# replace Pakistan-Afghanistan Border with most common country = Pakistan\n",
    "\n",
    "print drone_df['country'].value_counts()\n",
    "\n",
    "drone_df['country'].replace('Pakistan-Afghanistan Border','Pakistan',inplace=True)"
   ]
  },
  {
   "cell_type": "code",
   "execution_count": 6,
   "metadata": {
    "collapsed": true
   },
   "outputs": [],
   "source": [
    "# massum's contribution - - - -- -- -- - -- -- - --\n",
    "\n",
    "drone_df.injuries = drone_df.injuries.apply(lambda x: 0 if x == '' else x)\n",
    "drone_df[\"bins\"] = drone_df.injuries.apply(lambda x: 0 if x == 0 else x)\n",
    "drone_df[\"bins\"] = drone_df.bins.apply(lambda x: 1 if x == \"Some\" else x)\n",
    "drone_df[\"bins\"] = drone_df.bins.apply(lambda x: 1 if x == \"2-3\" else x)\n",
    "drone_df[\"bins\"] = drone_df.bins.apply(lambda x: 1 if x == \"2-4\" else x)\n",
    "drone_df[\"bins\"] = drone_df.bins.apply(lambda x: 1 if x == \"3-4\" else x)\n",
    "drone_df[\"bins\"] = drone_df.bins.apply(lambda x: 1 if x == \"1-3\" else x)\n",
    "drone_df[\"bins\"] = drone_df.bins.apply(lambda x: 1 if x == \"1-4\" else x)\n",
    "drone_df[\"bins\"] = drone_df.bins.apply(lambda x: 1 if x == \"4-6\" else x)\n",
    "drone_df[\"bins\"] = drone_df.bins.apply(lambda x: 1 if x == \"2-5\" else x)\n",
    "drone_df[\"bins\"] = drone_df.bins.apply(lambda x: 1 if x == \"0-2\" else x)\n",
    "drone_df[\"bins\"] = drone_df.bins.apply(lambda x: 1 if x == \"0-3\" else x)\n",
    "drone_df[\"bins\"] = drone_df.bins.apply(lambda x: 1 if x == \"1-2\" else x)\n",
    "drone_df[\"bins\"] = drone_df.bins.apply(lambda x: 1 if x == \"1-6\" else x)\n",
    "drone_df[\"bins\"] = drone_df.bins.apply(lambda x: 1 if x == \"0-4\" else x)\n",
    "drone_df[\"bins\"] = drone_df.bins.apply(lambda x: 1 if x == \"3-6\" else x)\n",
    "drone_df[\"bins\"] = drone_df.bins.apply(lambda x: 1 if x == \"4-8\" else x)\n",
    "drone_df[\"bins\"] = drone_df.bins.apply(lambda x: 1 if x == \"6-9\" else x)\n",
    "drone_df[\"bins\"] = drone_df.bins.apply(lambda x: 1 if x == \"4-7\" else x)\n",
    "drone_df[\"bins\"] = drone_df.bins.apply(lambda x: 2 if x == \"5-11\" else x)\n",
    "drone_df[\"bins\"] = drone_df.bins.apply(lambda x: 4 if x == \"5-30\" else x)\n",
    "drone_df[\"bins\"] = drone_df.bins.apply(lambda x: 3 if x == \"2-24\" else x)\n",
    "drone_df[\"bins\"] = drone_df.bins.apply(lambda x: 2 if x == \"Several\" else x)\n",
    "drone_df[\"bins\"] = drone_df.bins.apply(lambda x: 3 if x == \"Dozens\" else x)\n",
    "drone_df[\"bins\"] = drone_df.bins.apply(lambda x: 3 if x == \"Dozens\" else x)\n",
    "drone_df[\"bins\"] = drone_df.bins.apply(lambda x: 2 if x == \"1-8\" else x)\n",
    "drone_df[\"bins\"] = drone_df.bins.apply(lambda x: 3 if x == \"Dozens\" else x)\n",
    "drone_df[\"bins\"] = drone_df.bins.apply(lambda x: 1 if x == \"0-1\" else x)\n",
    "drone_df[\"bins\"] = drone_df.bins.apply(lambda x: int(x))\n",
    "drone_df[\"bins\"] = drone_df.bins.apply(lambda x: 1 if int(x)>0 and int(x)<6 else x)\n",
    "drone_df[\"bins\"] = drone_df.bins.apply(lambda x: 2 if int(x)>=6 and int(x)<12 else x)\n",
    "drone_df[\"bins\"] = drone_df.bins.apply(lambda x: 3 if int(x)>=12 and int(x)<24 else x)\n",
    "drone_df[\"bins\"] = drone_df.bins.apply(lambda x: 4 if int(x)>=24 and int(x)<100 else x)"
   ]
  },
  {
   "cell_type": "code",
   "execution_count": 7,
   "metadata": {},
   "outputs": [
    {
     "data": {
      "text/plain": [
       "0     588\n",
       "1      29\n",
       "3      11\n",
       "2       7\n",
       "4       5\n",
       "6       2\n",
       "5       2\n",
       "69      1\n",
       "10      1\n",
       "8       1\n",
       "Name: children, dtype: int64"
      ]
     },
     "execution_count": 7,
     "metadata": {},
     "output_type": "execute_result"
    }
   ],
   "source": [
    "## massum - -- - -- - -- - -- - -- --Children Column\n",
    "drone_df.children = drone_df.children.apply(lambda x: 0 if x == '' else x)\n",
    "drone_df.children = drone_df.children.apply(lambda x: 1 if x == 'Possibly' else x)\n",
    "drone_df.children = drone_df.children.apply(lambda x: 0 if 'Yes' in str(x) else x)\n",
    "drone_df.children = drone_df.children.apply(lambda x: 1 if x == 'At least 1' else x)\n",
    "drone_df.children = drone_df.children.apply(lambda x: 2 if x == 'At least 2' else x)\n",
    "drone_df.children = drone_df.children.apply(lambda x: 1 if x == '0-1' else x)\n",
    "drone_df.children = drone_df.children.apply(lambda x: 2 if x == '0-2' else x)\n",
    "drone_df.children = drone_df.children.apply(lambda x: 0 if x == '0-3' else x)\n",
    "drone_df.children = drone_df.children.apply(lambda x: 5 if x == '4-Mar' else x)\n",
    "drone_df.children = drone_df.children.apply(lambda x: int(x))\n",
    "drone_df.children.value_counts()"
   ]
  },
  {
   "cell_type": "code",
   "execution_count": null,
   "metadata": {},
   "outputs": [],
   "source": [
    "# missing_coordinates = drone_df[drone_df['lon'] == '']\n",
    "# missing_coordinates.ix[:,].T"
   ]
  },
  {
   "cell_type": "code",
   "execution_count": 8,
   "metadata": {
    "collapsed": true,
    "scrolled": false
   },
   "outputs": [],
   "source": [
    "# updating missing coordinates -- -- -- - -- - -- - -- \n",
    "\n",
    "shabwah = [14.55, 46.833333]\n",
    "abyan = [13.333333,45.383333]\n",
    "lahij = [13.05,44.883333]\n",
    "marib = [15.923429,45.300780]\n",
    "al_bayda = [13.989517,45.577477]\n",
    "\n",
    "drone_df = drone_df.set_value(610, 'lat', 14.55)\n",
    "drone_df = drone_df.set_value(610,'lon', 46.833333)\n",
    "\n",
    "drone_df = drone_df.set_value(611, 'lat', 16.666667)\n",
    "drone_df = drone_df.set_value(611, 'lon', 49.5)\n",
    "\n",
    "drone_df = drone_df.set_value(612,'lat',13.333333)\n",
    "drone_df = drone_df.set_value(612,'lon',45.383333)\n",
    "\n",
    "drone_df =  drone_df.set_value(613,'lat',14.55)\n",
    "drone_df =  drone_df.set_value(613,'lon',46.833333)\n",
    "\n",
    "drone_df =  drone_df.set_value(614,'lat',13.05)\n",
    "drone_df =  drone_df.set_value(614,'lon',44.883333)\n",
    "\n",
    "drone_df =  drone_df.set_value(615,'lat',33.43)\n",
    "drone_df =  drone_df.set_value(615,'lon',70.403889)\n",
    "\n",
    "drone_df =  drone_df.set_value(616,'lat',shabwah[0])\n",
    "drone_df =  drone_df.set_value(616,'lon',shabwah[1])\n",
    "\n",
    "drone_df = drone_df.set_value(618,'lat',abyan[0])\n",
    "drone_df = drone_df.set_value(618,'lon',abyan[1])\n",
    "\n",
    "drone_df = drone_df.set_value(621,'lat',abyan[0])\n",
    "drone_df = drone_df.set_value(621,'lon',abyan[1])\n",
    "\n",
    "drone_df = drone_df.set_value(622,'lat',shabwah[0])\n",
    "drone_df = drone_df.set_value(622,'lon',shabwah[1])\n",
    "\n",
    "drone_df = drone_df.set_value(624,'lat',lahij[0])\n",
    "drone_df = drone_df.set_value(624,'lon',lahij[1])\n",
    "\n",
    "drone_df = drone_df.set_value(626,'lat',1.659726)\n",
    "drone_df = drone_df.set_value(626,'lon',42.450708)\n",
    "\n",
    "drone_df = drone_df.set_value(627,'lat',14.762406)\n",
    "drone_df = drone_df.set_value(627,'lon',45.677630)\n",
    "\n",
    "drone_df = drone_df.set_value(628,'lat',abyan[0])\n",
    "drone_df = drone_df.set_value(628,'lon',abyan[1])\n",
    "\n",
    "drone_df = drone_df.set_value(629,'lat',shabwah[0])\n",
    "drone_df = drone_df.set_value(629,'lon',shabwah[1])\n",
    "\n",
    "drone_df = drone_df.set_value(630,'lat',15.069117)\n",
    "drone_df = drone_df.set_value(630,'lon',50.633199)\n",
    "\n",
    "drone_df = drone_df.set_value(631,'lat',marib[0])\n",
    "drone_df = drone_df.set_value(631,'lon',marib[1])\n",
    "\n",
    "drone_df = drone_df.set_value(632,'lat',16.057152)\n",
    "drone_df = drone_df.set_value(632,'lon',48.533667)\n",
    "\n",
    "drone_df = drone_df.set_value(633,'lat',14.325198)\n",
    "drone_df = drone_df.set_value(633,'lon',47.447179)\n",
    "\n",
    "drone_df = drone_df.set_value(634,'lat',shabwah[0])\n",
    "drone_df = drone_df.set_value(634,'lon',shabwah[1])\n",
    "\n",
    "drone_df = drone_df.set_value(635,'lat',shabwah[0])\n",
    "drone_df = drone_df.set_value(635,'lon',shabwah[1])\n",
    "\n",
    "drone_df = drone_df.set_value(636,'lat',shabwah[0])\n",
    "drone_df = drone_df.set_value(636,'lon',shabwah[1])\n",
    "\n",
    "drone_df = drone_df.set_value(638,'lat',14.679388)\n",
    "drone_df = drone_df.set_value(638,'lon',45.929459)\n",
    "\n",
    "drone_df = drone_df.set_value(639,'lat',al_bayda[0])\n",
    "drone_df = drone_df.set_value(639,'lon',al_bayda[1])\n",
    "\n",
    "drone_df = drone_df.set_value(640,'lat',al_bayda[0])\n",
    "drone_df = drone_df.set_value(640,'lon',al_bayda[1])\n",
    "\n",
    "drone_df = drone_df.set_value(641,'lat',al_bayda[0])\n",
    "drone_df = drone_df.set_value(641,'lon',al_bayda[1])\n",
    "\n",
    "drone_df = drone_df.set_value(643,'lat',33.689178)\n",
    "drone_df = drone_df.set_value(643,'lon',70.342825)\n",
    "\n",
    "drone_df = drone_df.set_value(644,'lat',14.180502)\n",
    "drone_df = drone_df.set_value(644,'lon',46.132042)\n",
    "\n",
    "drone_df = drone_df.set_value(645,'lat',abyan[0])\n",
    "drone_df = drone_df.set_value(645,'lon',abyan[1])\n"
   ]
  },
  {
   "cell_type": "code",
   "execution_count": 11,
   "metadata": {},
   "outputs": [
    {
     "data": {
      "text/plain": [
       "u'http://www.thebureauinvestigates.com/2012/03/29/yemen-reported-us-covert-actions-since-2001/'"
      ]
     },
     "execution_count": 11,
     "metadata": {},
     "output_type": "execute_result"
    }
   ],
   "source": [
    "drone_df['bij_link'][0]"
   ]
  },
  {
   "cell_type": "code",
   "execution_count": 102,
   "metadata": {
    "collapsed": true
   },
   "outputs": [],
   "source": [
    "drone_df.date = pd.to_datetime(drone_df.date)\n",
    "drone_df[[\"children\",\"civilians\",\"deaths\",\"deaths_max\",\"deaths_min\",\"injuries\"]] = \\\n",
    "        drone_df[[\"children\",\"civilians\",\"deaths\",\"deaths_max\",\"deaths_min\",\"injuries\"]].replace(\"\",0)"
   ]
  },
  {
   "cell_type": "code",
   "execution_count": 103,
   "metadata": {},
   "outputs": [
    {
     "data": {
      "text/plain": [
       "56"
      ]
     },
     "execution_count": 103,
     "metadata": {},
     "output_type": "execute_result"
    }
   ],
   "source": [
    "drone_df[[\"deaths_max\",\"deaths_min\"]] = drone_df[[\"deaths_max\",\"deaths_min\"]].replace(\"?\",0)\n",
    "drone_df[\"deaths_max\"] = pd.to_numeric(drone_df[\"deaths_max\"])\n",
    "drone_df[\"deaths_min\"] = pd.to_numeric(drone_df[\"deaths_min\"])\n",
    "drone_df.target = drone_df.target.map(lambda x: x.strip())\n",
    "drone_df.set_index(\"date\")[\"2007\"][\"deaths_max\"].sum()"
   ]
  },
  {
   "cell_type": "code",
   "execution_count": 104,
   "metadata": {},
   "outputs": [
    {
     "data": {
      "image/png": "[encoded data removed]",
      "text/plain": [
       "<matplotlib.figure.Figure at 0x11656a590>"
      ]
     },
     "metadata": {},
     "output_type": "display_data"
    }
   ],
   "source": [
    "drone_df.set_index(\"date\")[[\"deaths_min\",\"deaths_max\"]].resample(\"A\").sum().plot();"
   ]
  },
  {
   "cell_type": "code",
   "execution_count": 112,
   "metadata": {
    "scrolled": true
   },
   "outputs": [],
   "source": [
    "# drone_df[drone_df['target'] == 'Maulvi Nazir'].T\n",
    "# drone_df[drone_df['target'] == 'Baitullah Mehsud']\n"
   ]
  },
  {
   "cell_type": "code",
   "execution_count": 15,
   "metadata": {},
   "outputs": [
    {
     "data": {
      "text/html": [
       "<div>\n",
       "<table border=\"1\" class=\"dataframe\">\n",
       "  <thead>\n",
       "    <tr style=\"text-align: right;\">\n",
       "      <th></th>\n",
       "      <th>deaths_min</th>\n",
       "      <th>deaths_max</th>\n",
       "    </tr>\n",
       "    <tr>\n",
       "      <th>date</th>\n",
       "      <th></th>\n",
       "      <th></th>\n",
       "    </tr>\n",
       "  </thead>\n",
       "  <tbody>\n",
       "    <tr>\n",
       "      <th>2008-12-31</th>\n",
       "      <td>24.0</td>\n",
       "      <td>39.0</td>\n",
       "    </tr>\n",
       "    <tr>\n",
       "      <th>2009-12-31</th>\n",
       "      <td>21.0</td>\n",
       "      <td>28.0</td>\n",
       "    </tr>\n",
       "    <tr>\n",
       "      <th>2010-12-31</th>\n",
       "      <td>30.0</td>\n",
       "      <td>34.0</td>\n",
       "    </tr>\n",
       "    <tr>\n",
       "      <th>2011-12-31</th>\n",
       "      <td>12.0</td>\n",
       "      <td>22.0</td>\n",
       "    </tr>\n",
       "    <tr>\n",
       "      <th>2012-12-31</th>\n",
       "      <td>NaN</td>\n",
       "      <td>NaN</td>\n",
       "    </tr>\n",
       "    <tr>\n",
       "      <th>2013-12-31</th>\n",
       "      <td>6.0</td>\n",
       "      <td>11.0</td>\n",
       "    </tr>\n",
       "  </tbody>\n",
       "</table>\n",
       "</div>"
      ],
      "text/plain": [
       "            deaths_min  deaths_max\n",
       "date                              \n",
       "2008-12-31        24.0        39.0\n",
       "2009-12-31        21.0        28.0\n",
       "2010-12-31        30.0        34.0\n",
       "2011-12-31        12.0        22.0\n",
       "2012-12-31         NaN         NaN\n",
       "2013-12-31         6.0        11.0"
      ]
     },
     "execution_count": 15,
     "metadata": {},
     "output_type": "execute_result"
    }
   ],
   "source": [
    "drone_df[drone_df.target.map(lambda x: \"Nazir\" in x)].set_index(\"date\")[[\"deaths_min\",\"deaths_max\"]]\\\n",
    "    .resample(\"A\").sum()"
   ]
  },
  {
   "cell_type": "code",
   "execution_count": 111,
   "metadata": {},
   "outputs": [
    {
     "data": {
      "image/png": "[encoded data removed]",
      "text/plain": [
       "<matplotlib.figure.Figure at 0x115a53ed0>"
      ]
     },
     "metadata": {},
     "output_type": "display_data"
    }
   ],
   "source": [
    "\n",
    "sns.set_style('whitegrid')\n",
    "\n",
    "dplot = drone_df[drone_df.target.map(lambda x: \"Nazir\" in x)].set_index(\"date\")[[\"deaths_min\",\"deaths_max\"]].\\\n",
    "        resample(\"A\").sum()\n",
    "\n",
    "ax = dplot.plot.bar(alpha=0.6,figsize=(11,6))\n",
    "\n",
    "ax.set_title(\\\n",
    "        'Civilian Casualties in Pakistan from U.S. Drone Strikes that are aimed to target Maulvi Nazir \\n (2008-2013)'\\\n",
    "        ,fontsize=14,y=1.02)\n",
    "\n",
    "ax.set_xlabel(\"Date\")\n",
    "\n",
    "ax.set_xticklabels(['Dec. 31, 2008','Dec. 31, 2009','Dec. 31,2010','Dec. 31,2011','Dec. 31,2012','Dec. 31,2013']\\\n",
    "        ,rotation=40)\n",
    "\n",
    "ax.set_ylabel(\"Number of Civilian Deaths\");"
   ]
  },
  {
   "cell_type": "code",
   "execution_count": 108,
   "metadata": {},
   "outputs": [
    {
     "data": {
      "text/plain": [
       "''"
      ]
     },
     "execution_count": 108,
     "metadata": {},
     "output_type": "execute_result"
    },
    {
     "data": {
      "image/png": "[encoded data removed]",
      "text/plain": [
       "<matplotlib.figure.Figure at 0x11846e6d0>"
      ]
     },
     "metadata": {},
     "output_type": "display_data"
    }
   ],
   "source": [
    "dplot = drone_df[drone_df.target ==\"Baitullah Mehsud\"].set_index(\"date\")[[\"deaths_min\",\"deaths_max\"]].resample(\"M\").sum()\n",
    "ax = dplot.plot.bar(alpha=0.6,figsize=(11,6))\n",
    "ax.set_title('Civilian Casualties in Pakistan from U.S. Drone Strikes aimed for target Baitullah Mehsud  \\n (2008-209)',fontsize=14,y=1.02)\n",
    "ax.set_xlabel(\"Date\")\n",
    "ax.set_xticklabels(['June. 30, 2008','Dec. 31, 2009','Dec. 30,2010',\\\n",
    "                    'Dec. 31,2011','Dec. 30,2012','Dec. 31,2013'],rotation=40)\n",
    "ax.set_ylabel(\"Number of Civilian Deaths\")\n",
    ";"
   ]
  },
  {
   "cell_type": "code",
   "execution_count": null,
   "metadata": {},
   "outputs": [],
   "source": [
    "#drone_df.to_csv('updated_for_eda.csv',sep='\\t', encoding='utf-8')"
   ]
  },
  {
   "cell_type": "code",
   "execution_count": null,
   "metadata": {},
   "outputs": [],
   "source": []
  },
  {
   "cell_type": "code",
   "execution_count": null,
   "metadata": {
    "collapsed": true
   },
   "outputs": [],
   "source": []
  }
 ],
 "metadata": {
  "anaconda-cloud": {},
  "kernelspec": {
   "display_name": "Python [Root]",
   "language": "python",
   "name": "Python [Root]"
  },
  "language_info": {
   "codemirror_mode": {
    "name": "ipython",
    "version": 2
   },
   "file_extension": ".py",
   "mimetype": "text/x-python",
   "name": "python",
   "nbconvert_exporter": "python",
   "pygments_lexer": "ipython2",
   "version": "2.7.12"
  }
 },
 "nbformat": 4,
 "nbformat_minor": 2
}
